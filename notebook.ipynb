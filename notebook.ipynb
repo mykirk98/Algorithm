{
 "cells": [
  {
   "cell_type": "code",
   "execution_count": 5,
   "metadata": {},
   "outputs": [],
   "source": [
    "def combination(n, r):\n",
    "    r = max(r, n-r)\n",
    "    \n",
    "    result = 1\n",
    "    for i, j in enumerate(range(n, r, -1)):\n",
    "        result *= j / (i+1)\n",
    "    \n",
    "    return int(result)"
   ]
  },
  {
   "cell_type": "code",
   "execution_count": 18,
   "metadata": {},
   "outputs": [
    {
     "data": {
      "text/plain": [
       "6"
      ]
     },
     "execution_count": 18,
     "metadata": {},
     "output_type": "execute_result"
    }
   ],
   "source": [
    "combination(4, 2)"
   ]
  },
  {
   "cell_type": "code",
   "execution_count": 4,
   "metadata": {},
   "outputs": [],
   "source": [
    "n = 100\n",
    "\n",
    "array = []\n",
    "while n // 9 != 0:\n",
    "    array.append(n % 9)\n",
    "    n //= 9\n",
    "\n",
    "array.append(n)"
   ]
  },
  {
   "cell_type": "code",
   "execution_count": 5,
   "metadata": {},
   "outputs": [
    {
     "name": "stdout",
     "output_type": "stream",
     "text": [
      "[1, 2, 1]\n"
     ]
    }
   ],
   "source": [
    "print(array)"
   ]
  },
  {
   "cell_type": "code",
   "execution_count": 8,
   "metadata": {},
   "outputs": [
    {
     "name": "stdout",
     "output_type": "stream",
     "text": [
      "121\n"
     ]
    }
   ],
   "source": [
    "print(*array, sep='')"
   ]
  },
  {
   "cell_type": "code",
   "execution_count": 1,
   "metadata": {},
   "outputs": [],
   "source": [
    "def combination(n, c):\n",
    "    result = 1\n",
    "    c = max(c, n - c)\n",
    "    for e, i in enumerate(range(n, c, -1)):\n",
    "        result *= i\n",
    "        result /= (e + 1)\n",
    "    \n",
    "    return int(result)"
   ]
  },
  {
   "cell_type": "code",
   "execution_count": 2,
   "metadata": {},
   "outputs": [],
   "source": [
    "A, B = 0.5, 0.5\n",
    "non_prime = [1, 4, 6, 8, 9, 10, 12, 14, 15, 16, 18]"
   ]
  },
  {
   "cell_type": "code",
   "execution_count": 5,
   "metadata": {},
   "outputs": [],
   "source": [
    "A_prob = []\n",
    "for i in non_prime:\n",
    "    A_prob.append(combination(n=18, c=i) * (A ** i) * ((1 - A) ** (18 - i)))"
   ]
  },
  {
   "cell_type": "code",
   "execution_count": 7,
   "metadata": {},
   "outputs": [
    {
     "name": "stdout",
     "output_type": "stream",
     "text": [
      "[6.866455078125e-05, 0.0116729736328125, 0.0708160400390625, 0.16692352294921875, 0.1854705810546875, 0.16692352294921875, 0.0708160400390625, 0.0116729736328125, 0.00311279296875, 0.000583648681640625, 3.814697265625e-06]\n",
      "0.6880645751953125\n"
     ]
    }
   ],
   "source": [
    "print(A_prob)\n",
    "print(sum(A_prob))"
   ]
  },
  {
   "cell_type": "code",
   "execution_count": 11,
   "metadata": {},
   "outputs": [
    {
     "data": {
      "text/plain": [
       "-5.2495306590572e-06"
      ]
     },
     "execution_count": 11,
     "metadata": {},
     "output_type": "execute_result"
    }
   ],
   "source": [
    "0.5265618908306351 - (1- sum(A_prob) ** 2)"
   ]
  },
  {
   "cell_type": "code",
   "execution_count": 1,
   "metadata": {},
   "outputs": [],
   "source": [
    "numbers = [2, 2, 11, 4, 9, 7, 9]\n",
    "\n",
    "A = min(numbers)\n",
    "numbers.remove(A)\n",
    "\n",
    "B = min(numbers)\n",
    "numbers.remove(B)\n",
    "\n",
    "A_B = A + B\n",
    "numbers.remove(A_B)"
   ]
  },
  {
   "cell_type": "code",
   "execution_count": 2,
   "metadata": {},
   "outputs": [
    {
     "data": {
      "text/plain": [
       "[11, 9, 7, 9]"
      ]
     },
     "execution_count": 2,
     "metadata": {},
     "output_type": "execute_result"
    }
   ],
   "source": [
    "numbers"
   ]
  },
  {
   "cell_type": "code",
   "execution_count": 3,
   "metadata": {},
   "outputs": [
    {
     "data": {
      "text/plain": [
       "7"
      ]
     },
     "execution_count": 3,
     "metadata": {},
     "output_type": "execute_result"
    }
   ],
   "source": [
    "min(numbers)"
   ]
  },
  {
   "cell_type": "code",
   "execution_count": null,
   "metadata": {},
   "outputs": [],
   "source": []
  }
 ],
 "metadata": {
  "kernelspec": {
   "display_name": "base",
   "language": "python",
   "name": "python3"
  },
  "language_info": {
   "codemirror_mode": {
    "name": "ipython",
    "version": 3
   },
   "file_extension": ".py",
   "mimetype": "text/x-python",
   "name": "python",
   "nbconvert_exporter": "python",
   "pygments_lexer": "ipython3",
   "version": "3.11.5"
  }
 },
 "nbformat": 4,
 "nbformat_minor": 2
}
