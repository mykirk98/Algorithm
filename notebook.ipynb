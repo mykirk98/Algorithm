{
 "cells": [
  {
   "cell_type": "code",
   "execution_count": 3,
   "metadata": {},
   "outputs": [],
   "source": [
    "import math\n",
    "\n",
    "A, B = map(int, input().split())"
   ]
  },
  {
   "cell_type": "code",
   "execution_count": 4,
   "metadata": {},
   "outputs": [
    {
     "data": {
      "text/plain": [
       "[1, 2, 3, 6]"
      ]
     },
     "execution_count": 4,
     "metadata": {},
     "output_type": "execute_result"
    }
   ],
   "source": [
    "divisor_A, divisor_B = [], []\n",
    "\n",
    "for a in range(1, int(math.sqrt(A) + 1)):\n",
    "    if A % a == 0:\n",
    "        divisor_A.append(a);    divisor_A.append(A // a)\n",
    "divisor_A.sort()\n",
    "divisor_A"
   ]
  },
  {
   "cell_type": "code",
   "execution_count": 5,
   "metadata": {},
   "outputs": [
    {
     "data": {
      "text/plain": [
       "[1, 2, 5, 10]"
      ]
     },
     "execution_count": 5,
     "metadata": {},
     "output_type": "execute_result"
    }
   ],
   "source": [
    "for b in range(1, int(math.sqrt(B) + 1)):\n",
    "    if B % b == 0:\n",
    "        divisor_B.append(b);    divisor_B.append(B // b)\n",
    "divisor_B.sort()\n",
    "divisor_B"
   ]
  },
  {
   "cell_type": "code",
   "execution_count": 6,
   "metadata": {},
   "outputs": [
    {
     "data": {
      "text/plain": [
       "2"
      ]
     },
     "execution_count": 6,
     "metadata": {},
     "output_type": "execute_result"
    }
   ],
   "source": [
    "commonDivisor = 0\n",
    "\n",
    "for a in divisor_A:\n",
    "    for b in divisor_B:\n",
    "        if a == b:\n",
    "            commonDivisor = a\n",
    "\n",
    "commonDivisor"
   ]
  },
  {
   "cell_type": "code",
   "execution_count": 2,
   "metadata": {},
   "outputs": [
    {
     "name": "stdout",
     "output_type": "stream",
     "text": [
      "ZBCDEFG\n",
      "ABCDEFG\n"
     ]
    }
   ],
   "source": [
    "word = 'ABCDEFG'\n",
    "\n",
    "print(word.replace('A', 'Z'))\n",
    "\n",
    "print(word)"
   ]
  },
  {
   "cell_type": "code",
   "execution_count": 1,
   "metadata": {},
   "outputs": [],
   "source": [
    "X = int(input())\n",
    "lineFlag = 0"
   ]
  },
  {
   "cell_type": "code",
   "execution_count": 2,
   "metadata": {},
   "outputs": [
    {
     "name": "stdout",
     "output_type": "stream",
     "text": [
      "lineFlag : 3       X : 2\n"
     ]
    }
   ],
   "source": [
    "while X > lineFlag:\n",
    "    lineFlag += 1\n",
    "    X -= lineFlag\n",
    "\n",
    "print(f\"lineFlag : {lineFlag}       X : {X}\")"
   ]
  },
  {
   "cell_type": "markdown",
   "metadata": {},
   "source": [
    "# 2 / 3"
   ]
  },
  {
   "cell_type": "code",
   "execution_count": 3,
   "metadata": {},
   "outputs": [
    {
     "name": "stdout",
     "output_type": "stream",
     "text": [
      "1 4\n"
     ]
    }
   ],
   "source": [
    "a = 1\n",
    "b = lineFlag + 1\n",
    "X -= 1\n",
    "print(a, b)"
   ]
  },
  {
   "cell_type": "code",
   "execution_count": 6,
   "metadata": {},
   "outputs": [
    {
     "name": "stdout",
     "output_type": "stream",
     "text": [
      "a : 3     b :2      lineFlag : 3\n"
     ]
    }
   ],
   "source": [
    "while X > 0:\n",
    "    X -= 1\n",
    "    a += 1\n",
    "    b -= 1\n",
    "\n",
    "print(f\"a : {a}     b :{b}      lineFlag : {lineFlag}\")"
   ]
  },
  {
   "cell_type": "code",
   "execution_count": 5,
   "metadata": {},
   "outputs": [
    {
     "name": "stdout",
     "output_type": "stream",
     "text": [
      "2 / 3\n"
     ]
    }
   ],
   "source": [
    "if lineFlag % 2 == 1:\n",
    "    print(f\"{b} / {a}\")\n",
    "else:\n",
    "    print(f\"{a} / {b}\")"
   ]
  },
  {
   "cell_type": "code",
   "execution_count": 1,
   "metadata": {},
   "outputs": [],
   "source": [
    "def swap(a, b):\n",
    "    tmp = a\n",
    "    a = b\n",
    "    b = tmp\n",
    "    \n",
    "    return a, b"
   ]
  },
  {
   "cell_type": "code",
   "execution_count": 2,
   "metadata": {},
   "outputs": [
    {
     "name": "stdout",
     "output_type": "stream",
     "text": [
      "5 2\n",
      "2 5\n"
     ]
    }
   ],
   "source": [
    "a, b = 5, 2\n",
    "\n",
    "print(a, b)\n",
    "\n",
    "a, b = swap(a, b)\n",
    "print(a, b)"
   ]
  },
  {
   "cell_type": "code",
   "execution_count": 1,
   "metadata": {},
   "outputs": [],
   "source": [
    "A, B, V = map(int, input().split())"
   ]
  },
  {
   "cell_type": "code",
   "execution_count": 8,
   "metadata": {},
   "outputs": [
    {
     "name": "stdout",
     "output_type": "stream",
     "text": [
      "2 1 5\n"
     ]
    }
   ],
   "source": [
    "print(A, B, V)"
   ]
  },
  {
   "cell_type": "code",
   "execution_count": 10,
   "metadata": {},
   "outputs": [
    {
     "data": {
      "text/plain": [
       "4"
      ]
     },
     "execution_count": 10,
     "metadata": {},
     "output_type": "execute_result"
    }
   ],
   "source": [
    "(V - B) // (A - B)"
   ]
  },
  {
   "cell_type": "code",
   "execution_count": 1,
   "metadata": {},
   "outputs": [],
   "source": [
    "N, M = map(int, input().split())"
   ]
  },
  {
   "cell_type": "code",
   "execution_count": 2,
   "metadata": {},
   "outputs": [],
   "source": [
    "matrix_A, matrix_B = [], []\n",
    "for n in range(N):\n",
    "    elements_A = list(map(int, input().split()))\n",
    "    matrix_A.append(elements_A)\n",
    "    \n",
    "for n in range(N):\n",
    "    elements_B = list(map(int, input().split()))\n",
    "    matrix_B.append(elements_B)"
   ]
  },
  {
   "cell_type": "code",
   "execution_count": 10,
   "metadata": {},
   "outputs": [
    {
     "name": "stdout",
     "output_type": "stream",
     "text": [
      "[4, 4, 4] [6, 6, 6] [5, 6, 100]\n"
     ]
    }
   ],
   "source": [
    "matrix_sum = []\n",
    "for n in range(N):\n",
    "    matrix_row = []\n",
    "    for m in range(M):\n",
    "        matrix_row.append(matrix_A[n][m] + matrix_B[n][m])\n",
    "    matrix_sum.append(matrix_row)\n",
    "print(*matrix_sum)"
   ]
  },
  {
   "cell_type": "code",
   "execution_count": 13,
   "metadata": {},
   "outputs": [
    {
     "name": "stdout",
     "output_type": "stream",
     "text": [
      "4 4 4 \n",
      "6 6 6 \n",
      "5 6 100 \n"
     ]
    }
   ],
   "source": [
    "for n in range(N):\n",
    "    for m in range(M):\n",
    "        print(matrix_A[n][m] + matrix_B[n][m], end=' ')\n",
    "    print()"
   ]
  },
  {
   "cell_type": "code",
   "execution_count": 14,
   "metadata": {},
   "outputs": [],
   "source": [
    "matrix = []\n",
    "for i in range(9):\n",
    "    matrix.append(list(map(int, input().split())))"
   ]
  },
  {
   "cell_type": "code",
   "execution_count": 21,
   "metadata": {},
   "outputs": [],
   "source": [
    "max = -1\n",
    "row, col = -1, -1\n",
    "for i in range(9):\n",
    "    for j in range(9):\n",
    "        if matrix[i][j] > max:\n",
    "            max = matrix[i][j]\n",
    "            row, col = i + 1, j + 1"
   ]
  },
  {
   "cell_type": "code",
   "execution_count": 22,
   "metadata": {},
   "outputs": [
    {
     "name": "stdout",
     "output_type": "stream",
     "text": [
      "90\n",
      "5 7\n"
     ]
    }
   ],
   "source": [
    "print(max)\n",
    "print(row, col)"
   ]
  },
  {
   "cell_type": "code",
   "execution_count": null,
   "metadata": {},
   "outputs": [],
   "source": []
  }
 ],
 "metadata": {
  "kernelspec": {
   "display_name": "Python 3",
   "language": "python",
   "name": "python3"
  },
  "language_info": {
   "codemirror_mode": {
    "name": "ipython",
    "version": 3
   },
   "file_extension": ".py",
   "mimetype": "text/x-python",
   "name": "python",
   "nbconvert_exporter": "python",
   "pygments_lexer": "ipython3",
   "version": "3.9.6"
  }
 },
 "nbformat": 4,
 "nbformat_minor": 2
}
