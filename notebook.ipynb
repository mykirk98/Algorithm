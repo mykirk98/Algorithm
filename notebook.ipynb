{
 "cells": [
  {
   "cell_type": "code",
   "execution_count": 3,
   "metadata": {},
   "outputs": [],
   "source": [
    "import math\n",
    "\n",
    "A, B = map(int, input().split())"
   ]
  },
  {
   "cell_type": "code",
   "execution_count": 4,
   "metadata": {},
   "outputs": [
    {
     "data": {
      "text/plain": [
       "[1, 2, 3, 6]"
      ]
     },
     "execution_count": 4,
     "metadata": {},
     "output_type": "execute_result"
    }
   ],
   "source": [
    "divisor_A, divisor_B = [], []\n",
    "\n",
    "for a in range(1, int(math.sqrt(A) + 1)):\n",
    "    if A % a == 0:\n",
    "        divisor_A.append(a);    divisor_A.append(A // a)\n",
    "divisor_A.sort()\n",
    "divisor_A"
   ]
  },
  {
   "cell_type": "code",
   "execution_count": 5,
   "metadata": {},
   "outputs": [
    {
     "data": {
      "text/plain": [
       "[1, 2, 5, 10]"
      ]
     },
     "execution_count": 5,
     "metadata": {},
     "output_type": "execute_result"
    }
   ],
   "source": [
    "for b in range(1, int(math.sqrt(B) + 1)):\n",
    "    if B % b == 0:\n",
    "        divisor_B.append(b);    divisor_B.append(B // b)\n",
    "divisor_B.sort()\n",
    "divisor_B"
   ]
  },
  {
   "cell_type": "code",
   "execution_count": 6,
   "metadata": {},
   "outputs": [
    {
     "data": {
      "text/plain": [
       "2"
      ]
     },
     "execution_count": 6,
     "metadata": {},
     "output_type": "execute_result"
    }
   ],
   "source": [
    "commonDivisor = 0\n",
    "\n",
    "for a in divisor_A:\n",
    "    for b in divisor_B:\n",
    "        if a == b:\n",
    "            commonDivisor = a\n",
    "\n",
    "commonDivisor"
   ]
  },
  {
   "cell_type": "code",
   "execution_count": 2,
   "metadata": {},
   "outputs": [
    {
     "name": "stdout",
     "output_type": "stream",
     "text": [
      "ZBCDEFG\n",
      "ABCDEFG\n"
     ]
    }
   ],
   "source": [
    "word = 'ABCDEFG'\n",
    "\n",
    "print(word.replace('A', 'Z'))\n",
    "\n",
    "print(word)"
   ]
  },
  {
   "cell_type": "code",
   "execution_count": null,
   "metadata": {},
   "outputs": [],
   "source": []
  }
 ],
 "metadata": {
  "kernelspec": {
   "display_name": "Python 3",
   "language": "python",
   "name": "python3"
  },
  "language_info": {
   "codemirror_mode": {
    "name": "ipython",
    "version": 3
   },
   "file_extension": ".py",
   "mimetype": "text/x-python",
   "name": "python",
   "nbconvert_exporter": "python",
   "pygments_lexer": "ipython3",
   "version": "3.9.6"
  }
 },
 "nbformat": 4,
 "nbformat_minor": 2
}
